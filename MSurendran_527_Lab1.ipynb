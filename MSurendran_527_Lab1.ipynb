{
  "nbformat": 4,
  "nbformat_minor": 0,
  "metadata": {
    "colab": {
      "provenance": [],
      "include_colab_link": true
    },
    "kernelspec": {
      "name": "python3",
      "display_name": "Python 3"
    },
    "language_info": {
      "name": "python"
    }
  },
  "cells": [
    {
      "cell_type": "markdown",
      "metadata": {
        "id": "view-in-github",
        "colab_type": "text"
      },
      "source": [
        "<a href=\"https://colab.research.google.com/github/MSURENDRAN/Natural_Language_Processing/blob/main/MSurendran_527_Lab1.ipynb\" target=\"_parent\"><img src=\"https://colab.research.google.com/assets/colab-badge.svg\" alt=\"Open In Colab\"/></a>"
      ]
    },
    {
      "cell_type": "code",
      "source": [
        "import nltk\n",
        "nltk.download('punkt')"
      ],
      "metadata": {
        "colab": {
          "base_uri": "https://localhost:8080/"
        },
        "id": "leT-IyjKozel",
        "outputId": "b9a778cd-d3e2-44c7-d8c9-545972b31cbc"
      },
      "execution_count": null,
      "outputs": [
        {
          "output_type": "stream",
          "name": "stderr",
          "text": [
            "[nltk_data] Downloading package punkt to /root/nltk_data...\n",
            "[nltk_data]   Unzipping tokenizers/punkt.zip.\n"
          ]
        },
        {
          "output_type": "execute_result",
          "data": {
            "text/plain": [
              "True"
            ]
          },
          "metadata": {},
          "execution_count": 10
        }
      ]
    },
    {
      "cell_type": "code",
      "execution_count": null,
      "metadata": {
        "id": "wTwbM5CAm35E"
      },
      "outputs": [],
      "source": [
        "# Word Tokenization using Python's NLTK library\n",
        "import nltk\n",
        "from nltk.tokenize import word_tokenize\n",
        "example_text = \"Despite the pouring rain, Sam chose to keep running; she wasn't going to let a storm dampen his spirits 🏃‍♂️🌧. While he was running, his mind wandered to his project—'The significance of AI in healthcare,' which he hadn’t started yet. But right now, all he thought was, 'Don't stop!' Alas! his waterlogged shoes whispered, 'It's time to pause...'.\""
      ]
    },
    {
      "cell_type": "code",
      "source": [
        "print(word_tokenize(example_text))\n",
        "# Word Tokenization using NLTK breaks down text into words and punctuation."
      ],
      "metadata": {
        "colab": {
          "base_uri": "https://localhost:8080/"
        },
        "id": "ZybnqNgqoG3p",
        "outputId": "fcbbd2ff-7a7b-40c7-9633-443a76886655"
      },
      "execution_count": null,
      "outputs": [
        {
          "output_type": "stream",
          "name": "stdout",
          "text": [
            "['Despite', 'the', 'pouring', 'rain', ',', 'Sam', 'chose', 'to', 'keep', 'running', ';', 'she', 'was', \"n't\", 'going', 'to', 'let', 'a', 'storm', 'dampen', 'his', 'spirits', '🏃\\u200d♂️🌧', '.', 'While', 'he', 'was', 'running', ',', 'his', 'mind', 'wandered', 'to', 'his', \"project—'The\", 'significance', 'of', 'AI', 'in', 'healthcare', ',', \"'\", 'which', 'he', 'hadn', '’', 't', 'started', 'yet', '.', 'But', 'right', 'now', ',', 'all', 'he', 'thought', 'was', ',', \"'Do\", \"n't\", 'stop', '!', \"'\", 'Alas', '!', 'his', 'waterlogged', 'shoes', 'whispered', ',', \"'It\", \"'s\", 'time', 'to', 'pause', '...', \"'\", '.']\n"
          ]
        }
      ]
    },
    {
      "cell_type": "code",
      "source": [
        "# Sentence Tokenization using Python's NLTK library\n",
        "from nltk.tokenize import sent_tokenize\n",
        "print(sent_tokenize(example_text))\n",
        "# Sentence Tokenization breaks text into sentences. Useful for processing at the sentence level, like summarization."
      ],
      "metadata": {
        "colab": {
          "base_uri": "https://localhost:8080/"
        },
        "id": "roAO8_USn7MI",
        "outputId": "a2419d2c-ccb9-4bef-f27b-d8f3bb5599ac"
      },
      "execution_count": null,
      "outputs": [
        {
          "output_type": "stream",
          "name": "stdout",
          "text": [
            "[\"Despite the pouring rain, Sam chose to keep running; she wasn't going to let a storm dampen his spirits 🏃\\u200d♂️🌧.\", \"While he was running, his mind wandered to his project—'The significance of AI in healthcare,' which he hadn’t started yet.\", \"But right now, all he thought was, 'Don't stop!'\", 'Alas!', \"his waterlogged shoes whispered, 'It's time to pause...'.\"]\n"
          ]
        }
      ]
    },
    {
      "cell_type": "code",
      "source": [
        "# Punctuation-based Tokenization using Python's NLTK library\n",
        "from nltk.tokenize import WordPunctTokenizer\n",
        "print( WordPunctTokenizer().tokenize(example_text))\n",
        "# Punctuation-based Tokenizer explicitly separates punctuation from words, treating them as separate tokens."
      ],
      "metadata": {
        "colab": {
          "base_uri": "https://localhost:8080/"
        },
        "id": "o4nrPoQ4pUNY",
        "outputId": "38f93825-77a1-483c-996c-451a113a6a5a"
      },
      "execution_count": null,
      "outputs": [
        {
          "output_type": "stream",
          "name": "stdout",
          "text": [
            "['Despite', 'the', 'pouring', 'rain', ',', 'Sam', 'chose', 'to', 'keep', 'running', ';', 'she', 'wasn', \"'\", 't', 'going', 'to', 'let', 'a', 'storm', 'dampen', 'his', 'spirits', '🏃\\u200d♂️🌧.', 'While', 'he', 'was', 'running', ',', 'his', 'mind', 'wandered', 'to', 'his', 'project', \"—'\", 'The', 'significance', 'of', 'AI', 'in', 'healthcare', \",'\", 'which', 'he', 'hadn', '’', 't', 'started', 'yet', '.', 'But', 'right', 'now', ',', 'all', 'he', 'thought', 'was', ',', \"'\", 'Don', \"'\", 't', 'stop', \"!'\", 'Alas', '!', 'his', 'waterlogged', 'shoes', 'whispered', ',', \"'\", 'It', \"'\", 's', 'time', 'to', 'pause', \"...'.\"]\n"
          ]
        }
      ]
    },
    {
      "cell_type": "code",
      "source": [
        "# Treebank Word Tokenization using Python's NLTK library\n",
        "from nltk.tokenize import TreebankWordTokenizer\n",
        "print(TreebankWordTokenizer().tokenize(example_text))\n",
        "# Treebank Word Tokenizer uses the Penn Treebank conventions. It's good for tokens that conform to the Treebank standards."
      ],
      "metadata": {
        "colab": {
          "base_uri": "https://localhost:8080/"
        },
        "id": "AvMCDoGMp2Sw",
        "outputId": "4575152e-9648-4e93-c307-424319184848"
      },
      "execution_count": null,
      "outputs": [
        {
          "output_type": "stream",
          "name": "stdout",
          "text": [
            "['Despite', 'the', 'pouring', 'rain', ',', 'Sam', 'chose', 'to', 'keep', 'running', ';', 'she', 'was', \"n't\", 'going', 'to', 'let', 'a', 'storm', 'dampen', 'his', 'spirits', '🏃\\u200d♂️🌧.', 'While', 'he', 'was', 'running', ',', 'his', 'mind', 'wandered', 'to', 'his', \"project—'The\", 'significance', 'of', 'AI', 'in', 'healthcare', ',', \"'\", 'which', 'he', 'hadn’t', 'started', 'yet.', 'But', 'right', 'now', ',', 'all', 'he', 'thought', 'was', ',', \"'Do\", \"n't\", 'stop', '!', \"'\", 'Alas', '!', 'his', 'waterlogged', 'shoes', 'whispered', ',', \"'It\", \"'s\", 'time', 'to', 'pause', '...', \"'\", '.']\n"
          ]
        }
      ]
    },
    {
      "cell_type": "code",
      "source": [
        "# Tweet Tokenizer using Python's NLTK library\n",
        "from nltk.tokenize import TweetTokenizer\n",
        "print(TweetTokenizer().tokenize(example_text))\n",
        "# Tweet Tokenizer is tailored for the nuances of tweets, like hashtags, emoticons, and other internet-slang."
      ],
      "metadata": {
        "colab": {
          "base_uri": "https://localhost:8080/"
        },
        "id": "4DLCbvdaqBpi",
        "outputId": "02061dd9-6588-4b4a-f663-e6b94dd332ce"
      },
      "execution_count": null,
      "outputs": [
        {
          "output_type": "stream",
          "name": "stdout",
          "text": [
            "['Despite', 'the', 'pouring', 'rain', ',', 'Sam', 'chose', 'to', 'keep', 'running', ';', 'she', \"wasn't\", 'going', 'to', 'let', 'a', 'storm', 'dampen', 'his', 'spirits', '🏃\\u200d♂', '️', '🌧', '.', 'While', 'he', 'was', 'running', ',', 'his', 'mind', 'wandered', 'to', 'his', 'project', '—', \"'\", 'The', 'significance', 'of', 'AI', 'in', 'healthcare', ',', \"'\", 'which', 'he', 'hadn', '’', 't', 'started', 'yet', '.', 'But', 'right', 'now', ',', 'all', 'he', 'thought', 'was', ',', \"'\", \"Don't\", 'stop', '!', \"'\", 'Alas', '!', 'his', 'waterlogged', 'shoes', 'whispered', ',', \"'\", \"It's\", 'time', 'to', 'pause', '...', \"'\", '.']\n"
          ]
        }
      ]
    },
    {
      "cell_type": "code",
      "source": [
        "# Multi-Word Expression Tokenizer using Python's NLTK library\n",
        "from nltk.tokenize import MWETokenizer\n",
        "from nltk.tokenize import word_tokenize\n",
        "mwe_tokenizer = MWETokenizer([('AI', 'in', 'healthcare')])\n",
        "print(mwe_tokenizer.tokenize(word_tokenize(example_text)))\n",
        "# Multi-Word Expression Tokenizer maintains multi-word expressions as single tokens."
      ],
      "metadata": {
        "colab": {
          "base_uri": "https://localhost:8080/"
        },
        "id": "QrOoLMMfqLqA",
        "outputId": "97c45430-c5d7-40af-d12b-d15206de021a"
      },
      "execution_count": null,
      "outputs": [
        {
          "output_type": "stream",
          "name": "stdout",
          "text": [
            "['Despite', 'the', 'pouring', 'rain', ',', 'Sam', 'chose', 'to', 'keep', 'running', ';', 'she', 'was', \"n't\", 'going', 'to', 'let', 'a', 'storm', 'dampen', 'his', 'spirits', '🏃\\u200d♂️🌧', '.', 'While', 'he', 'was', 'running', ',', 'his', 'mind', 'wandered', 'to', 'his', \"project—'The\", 'significance', 'of', 'AI_in_healthcare', ',', \"'\", 'which', 'he', 'hadn', '’', 't', 'started', 'yet', '.', 'But', 'right', 'now', ',', 'all', 'he', 'thought', 'was', ',', \"'Do\", \"n't\", 'stop', '!', \"'\", 'Alas', '!', 'his', 'waterlogged', 'shoes', 'whispered', ',', \"'It\", \"'s\", 'time', 'to', 'pause', '...', \"'\", '.']\n"
          ]
        }
      ]
    },
    {
      "cell_type": "code",
      "source": [
        "# TextBlob Word Tokenize using TextBlob library\n",
        "from textblob import TextBlob\n",
        "print(TextBlob(example_text).words)\n",
        "# TextBlob Word Tokenizer is simple and useful for quick tasks like spell checking and translation within the TextBlob framework."
      ],
      "metadata": {
        "colab": {
          "base_uri": "https://localhost:8080/"
        },
        "id": "rBHSUx1GqjmA",
        "outputId": "8796bd86-0ed1-42f0-c0af-5d0e5fecc619"
      },
      "execution_count": null,
      "outputs": [
        {
          "output_type": "stream",
          "name": "stdout",
          "text": [
            "['Despite', 'the', 'pouring', 'rain', 'Sam', 'chose', 'to', 'keep', 'running', 'she', 'was', \"n't\", 'going', 'to', 'let', 'a', 'storm', 'dampen', 'his', 'spirits', '🏃\\u200d♂️🌧', 'While', 'he', 'was', 'running', 'his', 'mind', 'wandered', 'to', 'his', \"project—'The\", 'significance', 'of', 'AI', 'in', 'healthcare', 'which', 'he', 'hadn', '’', 't', 'started', 'yet', 'But', 'right', 'now', 'all', 'he', 'thought', 'was', \"'Do\", \"n't\", 'stop', 'Alas', 'his', 'waterlogged', 'shoes', 'whispered', \"'It\", \"'s\", 'time', 'to', 'pause']\n"
          ]
        }
      ]
    },
    {
      "cell_type": "code",
      "source": [
        "# TextBlob Word Tokenize using TextBlob library\n",
        "from textblob import TextBlob\n",
        "print(TextBlob(example_text).words)\n",
        "# TextBlob Word Tokenizer is simple and useful for quick tasks like spell checking and translation within the TextBlob framework."
      ],
      "metadata": {
        "colab": {
          "base_uri": "https://localhost:8080/"
        },
        "id": "rJJBiCRMq0vG",
        "outputId": "d4a849f7-45d1-4a16-bf8f-236cc2979b09"
      },
      "execution_count": null,
      "outputs": [
        {
          "output_type": "stream",
          "name": "stdout",
          "text": [
            "['Despite', 'the', 'pouring', 'rain', 'Sam', 'chose', 'to', 'keep', 'running', 'she', 'was', \"n't\", 'going', 'to', 'let', 'a', 'storm', 'dampen', 'his', 'spirits', '🏃\\u200d♂️🌧', 'While', 'he', 'was', 'running', 'his', 'mind', 'wandered', 'to', 'his', \"project—'The\", 'significance', 'of', 'AI', 'in', 'healthcare', 'which', 'he', 'hadn', '’', 't', 'started', 'yet', 'But', 'right', 'now', 'all', 'he', 'thought', 'was', \"'Do\", \"n't\", 'stop', 'Alas', 'his', 'waterlogged', 'shoes', 'whispered', \"'It\", \"'s\", 'time', 'to', 'pause']\n"
          ]
        }
      ]
    },
    {
      "cell_type": "code",
      "source": [
        "# Gensim word tokenizer using Gensim library\n",
        "from gensim.utils import tokenize\n",
        "print(list(tokenize(example_text)))\n",
        "# Gensim is used for unsupervised topic modeling and natural language processing, and its tokenizer is simple but effective."
      ],
      "metadata": {
        "colab": {
          "base_uri": "https://localhost:8080/"
        },
        "id": "x9XKmuy7q9TV",
        "outputId": "e02ad8bf-4b98-4725-e65a-db8672a74589"
      },
      "execution_count": null,
      "outputs": [
        {
          "output_type": "stream",
          "name": "stdout",
          "text": [
            "['Despite', 'the', 'pouring', 'rain', 'Sam', 'chose', 'to', 'keep', 'running', 'she', 'wasn', 't', 'going', 'to', 'let', 'a', 'storm', 'dampen', 'his', 'spirits', 'While', 'he', 'was', 'running', 'his', 'mind', 'wandered', 'to', 'his', 'project', 'The', 'significance', 'of', 'AI', 'in', 'healthcare', 'which', 'he', 'hadn', 't', 'started', 'yet', 'But', 'right', 'now', 'all', 'he', 'thought', 'was', 'Don', 't', 'stop', 'Alas', 'his', 'waterlogged', 'shoes', 'whispered', 'It', 's', 'time', 'to', 'pause']\n"
          ]
        }
      ]
    },
    {
      "cell_type": "code",
      "source": [
        "# Tokenization with Keras\n",
        "from keras.preprocessing.text import text_to_word_sequence\n",
        "\n",
        "print(text_to_word_sequence(example_text))\n",
        "\n",
        "# Keras tokenizer is part of the deep learning library and can be used as part of a neural network pipeline for NLP."
      ],
      "metadata": {
        "colab": {
          "base_uri": "https://localhost:8080/"
        },
        "id": "wqvNyXR6rFQL",
        "outputId": "5913589a-182d-433d-e618-1de74f3482e7"
      },
      "execution_count": null,
      "outputs": [
        {
          "output_type": "stream",
          "name": "stdout",
          "text": [
            "['despite', 'the', 'pouring', 'rain', 'sam', 'chose', 'to', 'keep', 'running', 'she', \"wasn't\", 'going', 'to', 'let', 'a', 'storm', 'dampen', 'his', 'spirits', '🏃\\u200d♂️🌧', 'while', 'he', 'was', 'running', 'his', 'mind', 'wandered', 'to', 'his', \"project—'the\", 'significance', 'of', 'ai', 'in', 'healthcare', \"'\", 'which', 'he', 'hadn’t', 'started', 'yet', 'but', 'right', 'now', 'all', 'he', 'thought', 'was', \"'don't\", 'stop', \"'\", 'alas', 'his', 'waterlogged', 'shoes', 'whispered', \"'it's\", 'time', 'to', 'pause', \"'\"]\n"
          ]
        }
      ]
    }
  ]
}