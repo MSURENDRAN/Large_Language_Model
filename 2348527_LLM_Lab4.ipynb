{
  "nbformat": 4,
  "nbformat_minor": 0,
  "metadata": {
    "colab": {
      "provenance": [],
      "include_colab_link": true
    },
    "kernelspec": {
      "name": "python3",
      "display_name": "Python 3"
    },
    "language_info": {
      "name": "python"
    }
  },
  "cells": [
    {
      "cell_type": "markdown",
      "metadata": {
        "id": "view-in-github",
        "colab_type": "text"
      },
      "source": [
        "<a href=\"https://colab.research.google.com/github/MSURENDRAN/Large_Language_Model/blob/main/2348527_LLM_Lab4.ipynb\" target=\"_parent\"><img src=\"https://colab.research.google.com/assets/colab-badge.svg\" alt=\"Open In Colab\"/></a>"
      ]
    },
    {
      "cell_type": "markdown",
      "source": [
        "a.Find the third meaning of the word"
      ],
      "metadata": {
        "id": "jwJGC6YOa3N_"
      }
    },
    {
      "cell_type": "code",
      "execution_count": null,
      "metadata": {
        "colab": {
          "base_uri": "https://localhost:8080/"
        },
        "id": "BQrYi2BCZZYL",
        "outputId": "c363b4b0-2b1e-454c-d8c4-426479da8cc6"
      },
      "outputs": [
        {
          "output_type": "stream",
          "name": "stderr",
          "text": [
            "[nltk_data] Downloading package wordnet to /root/nltk_data...\n"
          ]
        },
        {
          "output_type": "stream",
          "name": "stdout",
          "text": [
            "The 3rd meaning of 'bear': have\n",
            "The 3rd meaning of 'set': several exercises intended to be done in series\n",
            "The 3rd meaning of 'square': an open area at the meeting of two or more streets\n",
            "The 3rd meaning of 'lead': evidence pointing to a possible solution\n",
            "The word 'criteria' does not have a 3rd meaning in WordNet\n"
          ]
        }
      ],
      "source": [
        "import nltk\n",
        "nltk.download('wordnet')\n",
        "from nltk.corpus import wordnet\n",
        "\n",
        "# Word list\n",
        "words = [\"bear\",\"set\",\"square\",\"lead\",\"criteria\"]\n",
        "for word in words:\n",
        "    synsets = wordnet.synsets(word)\n",
        "\n",
        "    if len(synsets) >= 3:\n",
        "        third_meaning = synsets[2]\n",
        "        print(f\"The 3rd meaning of '{word}': {third_meaning.definition()}\")\n",
        "    else:\n",
        "        print(f\"The word '{word}' does not have a 3rd meaning in WordNet\")\n"
      ]
    },
    {
      "cell_type": "markdown",
      "source": [
        "b. Extracting the nouns of the word from the synonyms list."
      ],
      "metadata": {
        "id": "vMx9asVbbYIG"
      }
    },
    {
      "cell_type": "code",
      "source": [
        "for word in words:\n",
        "    synsets = wordnet.synsets(word)\n",
        "\n",
        "    # Extracting nouns\n",
        "    nouns = [lemma.name() for syn in synsets for lemma in syn.lemmas() if syn.pos() == 'n']\n",
        "    print(f\"Nouns of '{word}': {nouns}\")"
      ],
      "metadata": {
        "colab": {
          "base_uri": "https://localhost:8080/"
        },
        "id": "xCoW6tkEa01a",
        "outputId": "bf0739e0-8183-4aad-cf38-a665cb4c4148"
      },
      "execution_count": null,
      "outputs": [
        {
          "output_type": "stream",
          "name": "stdout",
          "text": [
            "Nouns of 'bear': ['bear', 'bear']\n",
            "Nouns of 'set': ['set', 'set', 'set', 'exercise_set', 'stage_set', 'set', 'set', 'circle', 'band', 'lot', 'bent', 'set', 'set', 'set', 'hardening', 'solidifying', 'solidification', 'set', 'curing', 'Set', 'Seth', 'set', 'set', 'readiness', 'set']\n",
            "Nouns of 'square': ['square', 'foursquare', 'square', 'second_power', 'public_square', 'square', 'square', 'square', 'lame', 'square', 'square_toes', 'square', 'square']\n",
            "Nouns of 'lead': ['lead', 'lead', 'Pb', 'atomic_number_82', 'lead', 'track', 'trail', 'lead', 'lead', 'lead', 'lead-in', 'lede', 'lead', 'star', 'principal', 'lead', 'lead', 'tip', 'lead', 'steer', 'confidential_information', 'wind', 'hint', 'lead', 'lead_story', 'spark_advance', 'lead', 'leash', 'tether', 'lead', 'lead', 'leading', 'lead', 'pencil_lead', 'jumper_cable', 'jumper_lead', 'lead', 'booster_cable', 'lead']\n",
            "Nouns of 'criteria': ['standard', 'criterion', 'measure', 'touchstone', 'criterion', 'standard']\n"
          ]
        }
      ]
    },
    {
      "cell_type": "markdown",
      "source": [
        "c.Extracting the verbs of the word from the synonyms list"
      ],
      "metadata": {
        "id": "-ljAjFUaboel"
      }
    },
    {
      "cell_type": "code",
      "source": [
        "for word in words:\n",
        "    synsets = wordnet.synsets(word)\n",
        "\n",
        "    # Extracting verbs\n",
        "    verbs = [lemma.name() for syn in synsets for lemma in syn.lemmas() if syn.pos() == 'v']\n",
        "    print(f\"Verbs of '{word}': {verbs}\")"
      ],
      "metadata": {
        "colab": {
          "base_uri": "https://localhost:8080/"
        },
        "id": "SMe7Ujg1bvnF",
        "outputId": "14ffd8ff-605f-40fb-d709-06c80e5682fc"
      },
      "execution_count": null,
      "outputs": [
        {
          "output_type": "stream",
          "name": "stdout",
          "text": [
            "Verbs of 'bear': ['bear', 'give_birth', 'deliver', 'bear', 'birth', 'have', 'digest', 'endure', 'stick_out', 'stomach', 'bear', 'stand', 'tolerate', 'support', 'brook', 'abide', 'suffer', 'put_up', 'bear', 'bear', 'turn_out', 'bear', 'take_over', 'accept', 'assume', 'hold', 'bear', 'carry', 'contain', 'yield', 'pay', 'bear', 'wear', 'bear', 'behave', 'acquit', 'bear', 'deport', 'conduct', 'comport', 'carry', 'bear', 'hold', 'hold', 'carry', 'bear', 'have_a_bun_in_the_oven', 'bear', 'carry', 'gestate', 'expect']\n",
            "Verbs of 'set': ['put', 'set', 'place', 'pose', 'position', 'lay', 'determine', 'set', 'specify', 'set', 'determine', 'define', 'fix', 'limit', 'set', 'mark', 'set', 'set', 'fix', 'prepare', 'set_up', 'ready', 'gear_up', 'set', 'set', 'set', 'localize', 'localise', 'place', 'set', 'go_down', 'go_under', 'arrange', 'set', 'plant', 'set', 'set', 'jell', 'set', 'congeal', 'typeset', 'set', 'set', 'set', 'countersink', 'set', 'sic', 'set', 'place', 'put', 'set', 'rig', 'set', 'set_up', 'set_up', 'lay_out', 'set', 'adjust', 'set', 'correct', 'fructify', 'set', 'dress', 'arrange', 'set', 'do', 'coif', 'coiffe', 'coiffure']\n",
            "Verbs of 'square': ['square', 'square_up', 'square', 'square', 'square', 'square', 'square', 'feather', 'square', 'feather', 'square']\n",
            "Verbs of 'lead': ['lead', 'take', 'direct', 'conduct', 'guide', 'leave', 'result', 'lead', 'lead', 'lead', 'head', 'lead', 'run', 'go', 'pass', 'lead', 'extend', 'head', 'lead', 'lead', 'top', 'contribute', 'lead', 'conduce', 'conduct', 'lead', 'direct', 'go', 'lead', 'precede', 'lead', 'run', 'lead', 'moderate', 'chair', 'lead']\n",
            "Verbs of 'criteria': []\n"
          ]
        }
      ]
    },
    {
      "cell_type": "markdown",
      "source": [
        " d.Extracting the adjectives of the word from the synonyms list."
      ],
      "metadata": {
        "id": "o_VQXeIub8iF"
      }
    },
    {
      "cell_type": "code",
      "source": [
        "for word in words:\n",
        "    synsets = wordnet.synsets(word)\n",
        "\n",
        "    # Extracting adjectives\n",
        "    adjectives = [lemma.name() for syn in synsets for lemma in syn.lemmas() if syn.pos() == 'a']\n",
        "    print(f\"Adjectives of '{word}': {adjectives}\")"
      ],
      "metadata": {
        "colab": {
          "base_uri": "https://localhost:8080/"
        },
        "id": "ZKXVMg94b8G2",
        "outputId": "4665f21a-9d50-44e5-dfa0-5194dbdc46ab"
      },
      "execution_count": null,
      "outputs": [
        {
          "output_type": "stream",
          "name": "stdout",
          "text": [
            "Adjectives of 'bear': []\n",
            "Adjectives of 'set': []\n",
            "Adjectives of 'square': ['square', 'straight', 'square']\n",
            "Adjectives of 'lead': []\n",
            "Adjectives of 'criteria': []\n"
          ]
        }
      ]
    },
    {
      "cell_type": "markdown",
      "source": [
        "e.Extracting the adverbs of the word from the synonyms list."
      ],
      "metadata": {
        "id": "JDKbo0umcPEr"
      }
    },
    {
      "cell_type": "code",
      "source": [
        "for word in words:\n",
        "    synsets = wordnet.synsets(word)\n",
        "\n",
        "    # Extracting adverbs\n",
        "    adverbs = [lemma.name() for syn in synsets for lemma in syn.lemmas() if syn.pos() == 'r']\n",
        "    print(f\"Adverbs of '{word}': {adverbs}\")"
      ],
      "metadata": {
        "colab": {
          "base_uri": "https://localhost:8080/"
        },
        "id": "rJ8gmpqUcOwK",
        "outputId": "9ff91eca-a362-4932-ba08-73a49394354c"
      },
      "execution_count": null,
      "outputs": [
        {
          "output_type": "stream",
          "name": "stdout",
          "text": [
            "Adverbs of 'bear': []\n",
            "Adverbs of 'set': []\n",
            "Adverbs of 'square': ['squarely', 'square', 'squarely', 'square', 'squarely', 'square']\n",
            "Adverbs of 'lead': []\n",
            "Adverbs of 'criteria': []\n"
          ]
        }
      ]
    },
    {
      "cell_type": "markdown",
      "source": [
        "f.Extracting the definition of the word. (For instance, ‘Bear’ - massive plantigrade carnivorous or  omnivorous mammals with long shaggy coats and strong claws)"
      ],
      "metadata": {
        "id": "c--fepa4cYa9"
      }
    },
    {
      "cell_type": "code",
      "source": [
        "for word in words:\n",
        "    synsets = wordnet.synsets(word)\n",
        "\n",
        "    # Extracting the definition\n",
        "    for syn in synsets:\n",
        "        print(f\"Definition of '{word}': {syn.definition()}\")\n"
      ],
      "metadata": {
        "colab": {
          "base_uri": "https://localhost:8080/"
        },
        "id": "XKczzVczcYAm",
        "outputId": "48b90d51-b116-445d-8139-8ff277d2069b"
      },
      "execution_count": null,
      "outputs": [
        {
          "output_type": "stream",
          "name": "stdout",
          "text": [
            "Definition of 'bear': massive plantigrade carnivorous or omnivorous mammals with long shaggy coats and strong claws\n",
            "Definition of 'bear': an investor with a pessimistic market outlook; an investor who expects prices to fall and so sells now in order to buy later at a lower price\n",
            "Definition of 'bear': have\n",
            "Definition of 'bear': cause to be born\n",
            "Definition of 'bear': put up with something or somebody unpleasant\n",
            "Definition of 'bear': move while holding up or supporting\n",
            "Definition of 'bear': bring forth,\n",
            "Definition of 'bear': take on as one's own the expenses or debts of another person\n",
            "Definition of 'bear': contain or hold; have within\n",
            "Definition of 'bear': bring in\n",
            "Definition of 'bear': have on one's person\n",
            "Definition of 'bear': behave in a certain manner\n",
            "Definition of 'bear': have rightfully; of rights, titles, and offices\n",
            "Definition of 'bear': support or hold in a certain manner\n",
            "Definition of 'bear': be pregnant with\n",
            "Definition of 'set': a group of things of the same kind that belong together and are so used\n",
            "Definition of 'set': (mathematics) an abstract collection of numbers or symbols\n",
            "Definition of 'set': several exercises intended to be done in series\n",
            "Definition of 'set': representation consisting of the scenery and other properties used to identify the location of a dramatic production\n",
            "Definition of 'set': an unofficial association of people or groups\n",
            "Definition of 'set': a relatively permanent inclination to react in a particular way\n",
            "Definition of 'set': the act of putting something in position\n",
            "Definition of 'set': a unit of play in tennis or squash\n",
            "Definition of 'set': the process of becoming hard or solid by cooling or drying or crystallization\n",
            "Definition of 'set': evil Egyptian god with the head of a beast that has high square ears and a long snout; brother and murderer of Osiris\n",
            "Definition of 'set': the descent of a heavenly body below the horizon\n",
            "Definition of 'set': (psychology) being temporarily ready to respond in a particular way\n",
            "Definition of 'set': any electronic equipment that receives or transmits radio or tv signals\n",
            "Definition of 'set': put into a certain place or abstract location\n",
            "Definition of 'set': fix conclusively or authoritatively\n",
            "Definition of 'set': decide upon or fix definitely\n",
            "Definition of 'set': establish as the highest level or best performance\n",
            "Definition of 'set': put into a certain state; cause to be in a certain state\n",
            "Definition of 'set': fix in a border\n",
            "Definition of 'set': make ready or suitable or equip in advance for a particular purpose or for some use, event, etc\n",
            "Definition of 'set': set to a certain position or cause to operate correctly\n",
            "Definition of 'set': locate\n",
            "Definition of 'set': disappear beyond the horizon\n",
            "Definition of 'set': adapt for performance in a different way\n",
            "Definition of 'set': put or set (seeds, seedlings, or plants) into the ground\n",
            "Definition of 'set': apply or start\n",
            "Definition of 'set': become gelatinous\n",
            "Definition of 'set': set in type\n",
            "Definition of 'set': put into a position that will restore a normal state\n",
            "Definition of 'set': insert (a nail or screw below the surface, as into a countersink)\n",
            "Definition of 'set': give a fine, sharp edge to a knife or razor\n",
            "Definition of 'set': urge to attack someone\n",
            "Definition of 'set': estimate\n",
            "Definition of 'set': equip with sails or masts\n",
            "Definition of 'set': get ready for a particular purpose or event\n",
            "Definition of 'set': alter or regulate so as to achieve accuracy or conform to a standard\n",
            "Definition of 'set': bear fruit\n",
            "Definition of 'set': arrange attractively\n",
            "Definition of 'set': (usually followed by `to' or `for') on the point of or strongly disposed\n",
            "Definition of 'set': fixed and unmoving; ; - Connor Cruise O'Brien\n",
            "Definition of 'set': situated in a particular spot or position\n",
            "Definition of 'set': set down according to a plan:\n",
            "Definition of 'set': being below the horizon\n",
            "Definition of 'set': determined or decided upon as by an authority\n",
            "Definition of 'set': converted to solid form (as concrete)\n",
            "Definition of 'square': (geometry) a plane rectangle with four equal sides and four right angles; a four-sided regular polygon\n",
            "Definition of 'square': the product of two equal terms\n",
            "Definition of 'square': an open area at the meeting of two or more streets\n",
            "Definition of 'square': something approximating the shape of a square\n",
            "Definition of 'square': someone who doesn't understand what is going on\n",
            "Definition of 'square': a formal and conservative person with old-fashioned views\n",
            "Definition of 'square': any artifact having a shape similar to a plane geometric figure with four equal sides and four right angles\n",
            "Definition of 'square': a hand tool consisting of two straight arms at right angles; used to construct or test right angles\n",
            "Definition of 'square': make square\n",
            "Definition of 'square': raise to the second power\n",
            "Definition of 'square': cause to match, as of ideas or acts\n",
            "Definition of 'square': position so as to be square\n",
            "Definition of 'square': be compatible with\n",
            "Definition of 'square': pay someone and settle a debt\n",
            "Definition of 'square': turn the paddle; in canoeing\n",
            "Definition of 'square': turn the oar, while rowing\n",
            "Definition of 'square': having four equal sides and four right angles or forming a right angle\n",
            "Definition of 'square': characterized by honesty and fairness\n",
            "Definition of 'square': providing abundant nourishment\n",
            "Definition of 'square': leaving no balance\n",
            "Definition of 'square': without evasion or compromise\n",
            "Definition of 'square': rigidly conventional or old-fashioned\n",
            "Definition of 'square': in a straight direct way\n",
            "Definition of 'square': in a square shape\n",
            "Definition of 'square': firmly and solidly\n",
            "Definition of 'lead': an advantage held by a competitor in a race\n",
            "Definition of 'lead': a soft heavy toxic malleable metallic element; bluish white when freshly cut but tarnishes readily to dull grey\n",
            "Definition of 'lead': evidence pointing to a possible solution\n",
            "Definition of 'lead': a position of leadership (especially in the phrase `take the lead')\n",
            "Definition of 'lead': the angle between the direction a gun is aimed and the position of a moving target (correcting for the flight time of the missile)\n",
            "Definition of 'lead': the introductory section of a story\n",
            "Definition of 'lead': (sports) the score by which a team or individual is winning\n",
            "Definition of 'lead': an actor who plays a principal role\n",
            "Definition of 'lead': (baseball) the position taken by a base runner preparing to advance to the next base\n",
            "Definition of 'lead': an indication of potential opportunity\n",
            "Definition of 'lead': a news story of major importance\n",
            "Definition of 'lead': the timing of ignition relative to the position of the piston in an internal-combustion engine\n",
            "Definition of 'lead': restraint consisting of a rope (or light chain) used to restrain an animal\n",
            "Definition of 'lead': thin strip of metal used to separate lines of type in printing\n",
            "Definition of 'lead': mixture of graphite with clay in different degrees of hardness; the marking substance in a pencil\n",
            "Definition of 'lead': a jumper that consists of a short piece of wire\n",
            "Definition of 'lead': the playing of a card to start a trick in bridge\n",
            "Definition of 'lead': take somebody somewhere\n",
            "Definition of 'lead': have as a result or residue\n",
            "Definition of 'lead': tend to or result in\n",
            "Definition of 'lead': travel in front of; go in advance of others\n",
            "Definition of 'lead': cause to undertake a certain action\n",
            "Definition of 'lead': stretch out over a distance, space, time, or scope; run or extend between two points or beyond a certain point\n",
            "Definition of 'lead': be in charge of\n",
            "Definition of 'lead': be ahead of others; be the first\n",
            "Definition of 'lead': be conducive to\n",
            "Definition of 'lead': lead, as in the performance of a composition\n",
            "Definition of 'lead': lead, extend, or afford access\n",
            "Definition of 'lead': move ahead (of others) in time or space\n",
            "Definition of 'lead': cause something to pass or lead somewhere\n",
            "Definition of 'lead': preside over\n",
            "Definition of 'criteria': a basis for comparison; a reference point against which other things can be evaluated\n",
            "Definition of 'criteria': the ideal in terms of which something can be judged\n"
          ]
        }
      ]
    },
    {
      "cell_type": "markdown",
      "source": [
        " g.Finding the hypernyms of each word."
      ],
      "metadata": {
        "id": "lqdfql3QcqaZ"
      }
    },
    {
      "cell_type": "code",
      "source": [
        "for word in words:\n",
        "    synsets = wordnet.synsets(word)\n",
        "\n",
        "    # Find the hypernyms\n",
        "    hypernyms_list = []\n",
        "    for syn in synsets:\n",
        "        for hypernym in syn.hypernyms():\n",
        "            hypernyms_list.extend(hypernym.lemma_names())\n",
        "\n",
        "    print(f\"Hypernyms of '{word}': {hypernyms_list}\")"
      ],
      "metadata": {
        "colab": {
          "base_uri": "https://localhost:8080/"
        },
        "id": "kjFBPFxEcqzv",
        "outputId": "9ee6f608-0461-41bf-f12c-eb79042c264c"
      },
      "execution_count": null,
      "outputs": [
        {
          "output_type": "stream",
          "name": "stdout",
          "text": [
            "Hypernyms of 'bear': ['carnivore', 'investor', 'have', 'feature', 'produce', 'bring_forth', 'permit', 'allow', 'let', 'countenance', 'transport', 'carry', 'make', 'create', 'take', 'include', 'gain', 'take_in', 'clear', 'make', 'earn', 'realize', 'realise', 'pull_in', 'bring_in', 'have', 'feature', 'act', 'move', 'hold', 'carry', 'bear', 'have', 'have_got', 'hold', 'give_birth', 'deliver', 'bear', 'birth', 'have']\n",
            "Hypernyms of 'set': ['collection', 'aggregation', 'accumulation', 'assemblage', 'abstraction', 'abstract_entity', 'exercise', 'exercising', 'physical_exercise', 'physical_exertion', 'workout', 'representation', 'social_group', 'inclination', 'disposition', 'tendency', 'placement', 'location', 'locating', 'position', 'positioning', 'emplacement', 'playing_period', 'period_of_play', 'play', 'natural_process', 'natural_action', 'action', 'activity', 'descent', 'cognitive_state', 'state_of_mind', 'electronic_equipment', 'move', 'displace', 'choose', 'take', 'select', 'pick_out', 'lay_down', 'establish', 'make', 'change', 'alter', 'modify', 'arrange', 'set_up', 'change', 'alter', 'modify', 'adjust', 'set', 'correct', 'stage', 'present', 'represent', 'descend', 'fall', 'go_down', 'come_down', 'compose', 'write', 'put', 'set', 'place', 'pose', 'position', 'lay', 'originate', 'initiate', 'start', 'solidify', 'print', 'impress', 'put', 'set', 'place', 'pose', 'position', 'lay', 'bury', 'sink', 'hone', 'assail', 'assault', 'set_on', 'attack', 'estimate', 'gauge', 'approximate', 'guess', 'judge', 'equip', 'fit', 'fit_out', 'outfit', 'fix', 'prepare', 'set_up', 'ready', 'gear_up', 'set', 'change', 'alter', 'modify', 'reproduce', 'procreate', 'multiply', 'groom', 'neaten']\n",
            "Hypernyms of 'square': ['rectangle', 'regular_polygon', 'number', 'tract', 'piece_of_land', 'piece_of_ground', 'parcel_of_land', 'parcel', 'shape', 'form', 'simpleton', 'simple', 'conservative', 'conservativist', 'artifact', 'artefact', 'hand_tool', 'shape', 'form', 'multiply', 'adjust', 'conform', 'adapt', 'position', 'match', 'fit', 'correspond', 'check', 'jibe', 'gibe', 'tally', 'agree', 'settle', 'paddle', 'row']\n",
            "Hypernyms of 'lead': ['advantage', 'vantage', 'metallic_element', 'metal', 'evidence', 'grounds', 'leadership', 'leading', 'angle', 'section', 'subdivision', 'score', 'actor', 'histrion', 'player', 'thespian', 'role_player', 'position', 'place', 'guidance', 'counsel', 'counseling', 'counselling', 'direction', 'news_article', 'news_story', 'newspaper_article', 'timing', 'restraint', 'constraint', 'strip', 'slip', 'graphite', 'black_lead', 'plumbago', 'jumper', 'wire', 'conducting_wire', 'turn', 'play', 'produce', 'bring_about', 'give_rise', 'leave', 'result', 'lead', 'precede', 'lead', 'induce', 'stimulate', 'cause', 'have', 'get', 'make', 'be', 'direct', 'promote', 'advance', 'boost', 'further', 'encourage', 'perform', 'execute', 'do', 'be', 'travel', 'go', 'move', 'locomote', 'pass', 'make_pass', 'hash_out', 'discuss', 'talk_over']\n",
            "Hypernyms of 'criteria': ['system_of_measurement', 'metric', 'ideal']\n"
          ]
        }
      ]
    },
    {
      "cell_type": "markdown",
      "source": [
        "h.Finding the hyponyms of each word."
      ],
      "metadata": {
        "id": "w7kQ5JNic3TJ"
      }
    },
    {
      "cell_type": "code",
      "source": [
        "for word in words:\n",
        "    synsets = wordnet.synsets(word)\n",
        "\n",
        "    # Find the hyponyms\n",
        "    hyponyms_list = []\n",
        "    for syn in synsets:\n",
        "        for hyponym in syn.hyponyms():\n",
        "            hyponyms_list.extend(hyponym.lemma_names())\n",
        "\n",
        "    print(f\"Hyponyms of '{word}': {hyponyms_list}\")"
      ],
      "metadata": {
        "colab": {
          "base_uri": "https://localhost:8080/"
        },
        "id": "Qbbfb64Jc279",
        "outputId": "5dc2b277-aedb-401b-e190-75625333be21"
      },
      "execution_count": null,
      "outputs": [
        {
          "output_type": "stream",
          "name": "stdout",
          "text": [
            "Hyponyms of 'bear': ['American_black_bear', 'black_bear', 'Ursus_americanus', 'Euarctos_americanus', 'Asiatic_black_bear', 'black_bear', 'Ursus_thibetanus', 'Selenarctos_thibetanus', 'bear_cub', 'brown_bear', 'bruin', 'Ursus_arctos', 'bruin', 'ice_bear', 'polar_bear', 'Ursus_Maritimus', 'Thalarctos_maritimus', 'sloth_bear', 'Melursus_ursinus', 'Ursus_ursinus', 'carry', 'calve', 'have_young', 'cub', 'drop', 'farrow', 'pig', 'fawn', 'foal', 'have_a_bun_in_the_oven', 'bear', 'carry', 'gestate', 'expect', 'kitten', 'lamb', 'litter', 'twin', 'whelp', 'pup', 'accept', 'live_with', 'swallow', 'bear_up', 'pay', 'sit_out', 'stand_for', 'hold_still_for', 'take_a_joke', 'take_lying_down', 'frogmarch', 'crop', 'fruit', 'overbear', 'seed', 'spin_off', 'face_the_music', 'carry-the_can', 'enclose', 'hold_in', 'confine', 'retain', 'net', 'clear', 'pay_off', 'assert', 'put_forward', 'deal', 'fluster', 'pose', 'posture', 'walk_around', 'behave', 'acquit', 'bear', 'deport', 'conduct', 'comport', 'carry', 'piggyback', 'poise', 'balance', 'sling', 'stoop']\n",
            "Hyponyms of 'set': ['bracket', 'chess_set', 'choir', 'consort', 'conjugation', 'core', 'nucleus', 'core_group', 'dentition', 'teeth', 'field', 'field', 'field', 'intersection', 'product', 'Cartesian_product', 'manicure_set', 'octet', 'octette', 'pair', 'brace', 'portfolio', 'quartet', 'quartette', 'quadruplet', 'quadruple', 'quintet', 'quintette', 'quintuplet', 'quintuple', 'score', 'septet', 'septette', 'sextet', 'sextette', 'sestet', 'singleton', 'suite', 'synset', 'threescore', 'trio', 'triad', 'triplet', 'triple', 'union', 'sum', 'join', 'diagonal', 'domain', 'domain_of_a_function', 'field', 'group', 'mathematical_group', 'image', 'range', 'range_of_a_function', 'intersection', 'interval', 'locus', 'Mandelbrot_set', 'mathematical_space', 'topological_space', 'null_set', 'solution', 'root', 'subset', 'universal_set', 'scenery', 'scene', 'car_pool', 'clique', 'coterie', 'ingroup', 'inner_circle', 'pack', 'camp', 'cohort', 'conspiracy', 'confederacy', 'Four_Hundred', 'horsy_set', 'horsey_set', 'jet_set', 'party', 'company', 'congealment', 'congelation', 'receiver', 'receiving_system', 'transmitter', 'sender', 'appose', 'arrange', 'set_up', 'barrel', 'bed', 'bottle', 'bucket', 'butt', 'clap', 'cock', 'coffin', 'cram', 'dispose', 'docket', 'emplace', 'emplace', 'ensconce', 'settle', 'glycerolize', 'glycerolise', 'ground', 'imbricate', 'insert', 'enclose', 'inclose', 'stick_in', 'put_in', 'introduce', 'install', 'instal', 'put_in', 'set_up', 'intersperse', 'jar', 'juxtapose', 'ladle', 'lay', 'put_down', 'repose', 'lean', 'load', 'marshal', 'middle', 'misplace', 'mislay', 'lose', 'misplace', 'nestle', 'snuggle', 'parallelize', 'park', 'perch', 'pigeonhole', 'pile', 'pillow', 'rest', 'plant', 'set', 'plant', 'poise', 'position', 'postpose', 'prepose', 'rack_up', 'recess', 'recline', 'replace', 'put_back', 'repose', 'reposition', 'rest', 'seat', 'sit', 'sit_down', 'seat', 'seat', 'set', 'set_down', 'set_down', 'put_down', 'place_down', 'settle', 'settle_down', 'shelve', 'ship', 'sign', 'siphon', 'situate', 'fix', 'posit', 'deposit', 'sow', 'seed', 'space', 'stand', 'stand_up', 'place_upright', 'step', 'stratify', 'superimpose', 'superpose', 'lay_over', 'superpose', 'tee', 'tee_up', 'throw', 'thrust', 'throw', 'trench', 'underlay', 'upend', 'charge', 'date', 'filiate', 'format', 'identify', 'place', 'initialize', 'initialise', 'price', 'tax', 'assess', 'value', 'define', 'name', 'quantify', 'reset', 'keynote', 'pitch', 'brace', 'poise', 'cram', 'cultivate', 'crop', 'work', 'fix', 'mount', 'precondition', 'prime', 'provide', 'set_up', 'lay_out', 'set', 'socialize', 'socialise', 'summerize', 'summerise', 'winterize', 'winterise', 'advance', 'set_ahead', 'reset', 'prearrange', 'put', 'table', 'tabularize', 'tabularise', 'tabulate', 'transpose', 'afforest', 'forest', 'bed', 'checkrow', 'dibble', 'puddle', 'replant', 'root', 'tree', 'align', 'ordinate', 'coordinate', 'attune', 'calibrate', 'graduate', 'fine-tune', 'citify', 'depressurize', 'depressurise', 'decompress', 'focus', 'focalize', 'focalise', 'sharpen', 'harmonize', 'harmonise', 'reconcile', 'justify', 'linearize', 'linearise', 'match', 'fit', 'modulate', 'plumb', 'pressurize', 'pressurise', 'proportion', 'readjust', 'reset', 'regulate', 'modulate', 'set', 'synchronize', 'synchronise', 'sync', 'temper', 'time', 'time', 'trim', 'tune', 'tune_up', 'tune', 'tune_up', 'zero', 'zero', 'zero_in', 'bob', 'wave']\n",
            "Hyponyms of 'square': ['quadrate', 'plaza', 'place', 'piazza', \"carpenter's_square\", 'T-square', 'try_square', 'square_up', 'jog', 'even_up']\n",
            "Hyponyms of 'lead': ['hard_lead', 'antimonial_lead', 'hard_lead', 'pig_lead', 'co-star', 'film_star', 'movie_star', 'idol', 'matinee_idol', 'television_star', 'TV_star', 'clip_lead', 'beacon', 'hand', 'mislead', 'misdirect', 'misguide', 'lead_astray', 'usher', 'show', 'lead', 'entail', 'implicate', 'necessitate', 'draw_away', 'give', 'come', 'go_far', 'go_deep', 'radiate', 'ray', 'captain', 'chair', 'chairman', 'spearhead', 'take_hold', 'take_charge', 'take_control', 'lead', 'head']\n",
            "Hyponyms of 'criteria': ['baseline', 'benchmark', 'earned_run_average', 'ERA', 'gauge', 'standard_of_measurement', 'grade_point_average', 'GPA', 'medium_of_exchange', 'monetary_system', 'norm', 'procrustean_standard', 'procrustean_rule', 'procrustean_bed', 'scale', 'scale_of_measurement', 'graduated_table', 'ordered_series', 'yardstick', 'control_condition', 'control', 'design_criteria']\n"
          ]
        }
      ]
    },
    {
      "cell_type": "markdown",
      "source": [
        "i.Find the similarities of any two hyponyms of a word."
      ],
      "metadata": {
        "id": "bYt_QIs9dDnh"
      }
    },
    {
      "cell_type": "code",
      "source": [
        "def find_hyponym_similarity(word):\n",
        "    synsets = wordnet.synsets(word)\n",
        "\n",
        "    if synsets:\n",
        "        hyponyms = synsets[0].hyponyms()\n",
        "\n",
        "        if len(hyponyms) >= 2:\n",
        "            hyponym1 = hyponyms[0].lemmas()[0].name()\n",
        "            hyponym2 = hyponyms[1].lemmas()[0].name()\n",
        "\n",
        "            similarity = hyponyms[0].path_similarity(hyponyms[1])\n",
        "            return hyponym1, hyponym2, similarity\n",
        "        else:\n",
        "            return \"Word has fewer than 2 hyponyms\"\n",
        "    else:\n",
        "        return \"Word not found in WordNet\"\n",
        "\n",
        "word = \"bear\"  # Replace with the word for which you want to find the hyponym similarities\n",
        "result = find_hyponym_similarity(word)\n",
        "print(f\"Similarity between '{result[0]}' and '{result[1]}': {result[2]}\")"
      ],
      "metadata": {
        "colab": {
          "base_uri": "https://localhost:8080/"
        },
        "id": "384rGv0gdDTm",
        "outputId": "a50a3ebc-7da6-47c6-bec6-d6d652fa992c"
      },
      "execution_count": null,
      "outputs": [
        {
          "output_type": "stream",
          "name": "stdout",
          "text": [
            "Similarity between 'American_black_bear' and 'Asiatic_black_bear': 0.3333333333333333\n"
          ]
        }
      ]
    }
  ]
}